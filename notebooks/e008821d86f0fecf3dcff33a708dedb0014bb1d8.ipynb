{
 "cells": [
  {
   "cell_type": "code",
   "execution_count": null,
   "metadata": {
    "collapsed": true,
    "scrolled": "auto"
   },
   "outputs": [
    {
     "name": "stdout",
     "output_type": "stream",
     "text": [
      "[PASS] Input: 7\n",
      " \t Expected: 13, Actual: 13\n",
      "[PASS] Input: 12\n",
      " \t Expected: 144, Actual: 144\n",
      "[PASS] Input: 18\n",
      " \t Expected: 2584, Actual: 2584\n",
      "[PASS] Input: 2\n",
      " \t Expected: 1, Actual: 1\n",
      "[PASS] Input: 17\n",
      " \t Expected: 1597, Actual: 1597\n",
      "[PASS] Input: 19\n",
      " \t Expected: 4181, Actual: 4181\n",
      "[PASS] Input: 6\n",
      " \t Expected: 8, Actual: 8\n",
      "[PASS] Input: 9\n",
      " \t Expected: 34, Actual: 34\n",
      "[PASS] Input: 11\n",
      " \t Expected: 89, Actual: 89\n",
      "[PASS] Input: 5\n",
      " \t Expected: 5, Actual: 5\n",
      "[PASS] Input: 1\n",
      " \t Expected: 1, Actual: 1\n",
      "[PASS] Input: 16\n",
      " \t Expected: 987, Actual: 987\n",
      "[PASS] Input: 15\n",
      " \t Expected: 610, Actual: 610\n",
      "[PASS] Input: 14\n",
      " \t Expected: 377, Actual: 377\n",
      "[PASS] Input: 4\n",
      " \t Expected: 3, Actual: 3\n",
      "[PASS] Input: 3\n",
      " \t Expected: 2, Actual: 2\n",
      "[PASS] Input: 10\n",
      " \t Expected: 55, Actual: 55\n",
      "[PASS] Input: 8\n",
      " \t Expected: 21, Actual: 21\n",
      "[PASS] Input: 13\n",
      " \t Expected: 233, Actual: 233\n"
     ]
    }
   ],
   "source": [
    "def fn(x):\n",
    "\tif x in (1, 2):\n",
    "\t\treturn 1\n",
    "\treturn fn(x-1) + fn(x-2)\n",
    "\n",
    "\n",
    "\n",
    "\n",
    "\n",
    "\n",
    "\n",
    "\n",
    "\n",
    "\n",
    "\n",
    "\n"
   ]
  }
 ],
 "metadata": {
  "kernelspec": {
   "display_name": "Spark",
   "language": "python",
   "name": "sparkkernel"
  },
  "language_info": {
   "name": "python",
   "version": "3.9"
  }
 },
 "nbformat": 4,
 "nbformat_minor": 4
}
